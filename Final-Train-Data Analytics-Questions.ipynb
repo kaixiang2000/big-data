{
  "cells": [
    {
      "cell_type": "code",
      "execution_count": 1,
      "metadata": {
        "id": "LmxLySb20jtX"
      },
      "outputs": [],
      "source": [
        "# Spark installation on Colab\n",
        "#!pip install --pyspark"
      ]
    },
    {
      "cell_type": "code",
      "execution_count": 2,
      "metadata": {
        "id": "Nor9olN20p0M"
      },
      "outputs": [],
      "source": [
        "import findspark\n",
        "findspark.init()\n",
        "from pyspark import SparkContext\n",
        "from pyspark.sql import SparkSession\n",
        "sc = SparkContext(\"local\")\n",
        "spark = SparkSession.builder.getOrCreate()"
      ]
    },
    {
      "cell_type": "markdown",
      "metadata": {
        "id": "XL3CjM3406y4"
      },
      "source": [
        "Download the data if needed"
      ]
    },
    {
      "cell_type": "code",
      "execution_count": 4,
      "metadata": {
        "id": "2bNmkjaMYk7r"
      },
      "outputs": [],
      "source": [
        "# Download the data\n",
        "# ! wget -q https://github.com/trajanov/BigDataAnalytics/raw/master/Spark-Example-Social-Media/data/comment_hasCreator_person.csv.bz2\n",
        "# ! wget -q https://github.com/trajanov/BigDataAnalytics/raw/master/Spark-Example-Social-Media/data/comment_replyOf_post.csv.bz2\n",
        "# ! wget -q https://github.com/trajanov/BigDataAnalytics/raw/master/Spark-Example-Social-Media/data/person_knows_person.csv.bz2\n",
        "# ! wget -q https://github.com/trajanov/BigDataAnalytics/raw/master/Spark-Example-Social-Media/data/person_likes_post.csv.bz2\n",
        "# ! wget -q https://github.com/trajanov/BigDataAnalytics/raw/master/Spark-Example-Social-Media/data/post_hasCreator_person.csv.bz2"
      ]
    },
    {
      "cell_type": "code",
      "execution_count": 5,
      "metadata": {
        "id": "h5VEYx0pAgy8"
      },
      "outputs": [],
      "source": [
        "import os\n",
        "# Set your file path here \n",
        "path=\"data\"\n",
        "\n",
        "# You have 5 files \n",
        "\n",
        "fileCommentHasCreator= os.path.join(path,\"comment_hasCreator_person.csv.bz2\")\n",
        "fileComment_replyOf_post = os.path.join(path,\"comment_replyOf_post.csv.bz2\")\n",
        "filePerson_knows_person= os.path.join(path,\"person_knows_person.csv.bz2\")\n",
        "filePerson_likes_post = os.path.join(path,\"person_likes_post.csv.bz2\")\n",
        "filePost_hasCreator_person = os.path.join(path,\"post_hasCreator_person.csv.bz2\")"
      ]
    },
    {
      "cell_type": "markdown",
      "metadata": {
        "id": "M91Aasfec8BL"
      },
      "source": [
        "### Load the data and Create Dataframes"
      ]
    },
    {
      "cell_type": "code",
      "execution_count": 7,
      "metadata": {
        "id": "eHCWjR6rBDfE"
      },
      "outputs": [],
      "source": [
        "commentHasCreatorDD = spark.read.format('csv').options(header='true', inferSchema='true',  sep =\"|\").load(fileCommentHasCreator)\n",
        "# Spark has a problm of using . (dot) in column names so we are converting each dot in the name to \"_\"\n",
        "comments = commentHasCreatorDD.toDF(*(c.replace('.', '_') for c in commentHasCreatorDD.columns))\n",
        "comment_replyOf_postDD = spark.read.format('csv').options(header='true', inferSchema='true',  sep =\"|\").load(fileComment_replyOf_post)\n",
        "replays = comment_replyOf_postDD.toDF(*(c.replace('.', '_') for c in comment_replyOf_postDD.columns))\n",
        "person_knows_personDD = spark.read.format('csv').options(header='true', inferSchema='true',  sep =\"|\").load(filePerson_knows_person)\n",
        "knows = person_knows_personDD.toDF(*(c.replace('.', '_') for c in person_knows_personDD.columns))\n",
        "person_likes_postDD = spark.read.format('csv').options(header='true', inferSchema='true',  sep =\"|\").load(filePerson_likes_post)\n",
        "likes = person_likes_postDD.toDF(*(c.replace('.', '_') for c in person_likes_postDD.columns))\n",
        "post_hasCreator_personDD = spark.read.format('csv').options(header='true', inferSchema='true',  sep =\"|\").load(filePost_hasCreator_person)\n",
        "posts = post_hasCreator_personDD.toDF(*(c.replace('.', '_') for c in post_hasCreator_personDD.columns))"
      ]
    },
    {
      "cell_type": "markdown",
      "metadata": {},
      "source": [
        "### Explore the data"
      ]
    },
    {
      "cell_type": "code",
      "execution_count": 8,
      "metadata": {
        "colab": {
          "base_uri": "https://localhost:8080/"
        },
        "id": "JTMIAdr1dmD2",
        "outputId": "b3cffec0-a60f-4fb7-de03-6e4a69199959"
      },
      "outputs": [
        {
          "name": "stdout",
          "output_type": "stream",
          "text": [
            "+----------+---------+\n",
            "|Comment_id|Person_id|\n",
            "+----------+---------+\n",
            "|         0|       74|\n",
            "|        10|      832|\n",
            "|        20|      913|\n",
            "+----------+---------+\n",
            "only showing top 3 rows\n",
            "\n",
            "+----------+-------+\n",
            "|Comment_id|Post_id|\n",
            "+----------+-------+\n",
            "|         0|      0|\n",
            "|        10|      0|\n",
            "|        30|      0|\n",
            "+----------+-------+\n",
            "only showing top 3 rows\n",
            "\n",
            "+-------+---------+\n",
            "|Post_id|Person_id|\n",
            "+-------+---------+\n",
            "|      0|       38|\n",
            "|     10|       38|\n",
            "|     20|       38|\n",
            "+-------+---------+\n",
            "only showing top 3 rows\n",
            "\n",
            "+---------+-------+-------------------+\n",
            "|Person_id|Post_id|       creationDate|\n",
            "+---------+-------+-------------------+\n",
            "|       74|      0|2012-10-15 07:13:41|\n",
            "|       36|      0|2012-10-18 12:51:39|\n",
            "|      417|     10|2012-11-18 12:14:47|\n",
            "+---------+-------+-------------------+\n",
            "only showing top 3 rows\n",
            "\n",
            "+----------+----------+\n",
            "|Person_id0|Person_id1|\n",
            "+----------+----------+\n",
            "|        38|       956|\n",
            "|        38|       962|\n",
            "|        38|       941|\n",
            "+----------+----------+\n",
            "only showing top 3 rows\n",
            "\n"
          ]
        }
      ],
      "source": [
        "comments.show(3)\n",
        "replays.show(3)\n",
        "posts.show(3)\n",
        "likes.show(3)\n",
        "knows.show(3)"
      ]
    },
    {
      "cell_type": "code",
      "execution_count": 9,
      "metadata": {},
      "outputs": [
        {
          "name": "stdout",
          "output_type": "stream",
          "text": [
            "+---------+----------+\n",
            "|Person_id|sum(count)|\n",
            "+---------+----------+\n",
            "|      918|      6690|\n",
            "|       40|      6632|\n",
            "|      959|      6538|\n",
            "|       23|      6480|\n",
            "|      838|      6397|\n",
            "|      557|      6364|\n",
            "|      280|      6349|\n",
            "|      296|      6293|\n",
            "|      922|      6285|\n",
            "|      135|      6283|\n",
            "+---------+----------+\n",
            "\n"
          ]
        }
      ],
      "source": [
        "# Question 1: \n",
        "# Consider that total user activities count to be the number of user’s posts, comments, likes and having friends.\n",
        "# Which top-10 users have the highest activity counts?\n",
        "\n",
        "commentsP = comments.groupBy(\"Person_id\").count()\n",
        "postsP = posts.groupBy(\"Person_id\").count()\n",
        "likesP = likes.groupBy(\"Person_id\").count()\n",
        "knowsP = knows.groupBy(\"Person_id0\").count().toDF(*[\"Person_id\",\"count\"])\n",
        "\n",
        "acitivties = commentsP.union(postsP)\n",
        "acitivties = acitivties.union(likesP)\n",
        "acitivties = acitivties.union(knowsP)\n",
        "\n",
        "acitivtiesP = acitivties.groupBy(\"Person_id\").sum(\"count\").orderBy(\"sum(count)\", ascending=False).limit(10)\n",
        "acitivtiesP.show()"
      ]
    },
    {
      "cell_type": "code",
      "execution_count": 10,
      "metadata": {},
      "outputs": [
        {
          "name": "stdout",
          "output_type": "stream",
          "text": [
            "+-------+----------+---------+\n",
            "|Post_id|sum(count)|Person_id|\n",
            "+-------+----------+---------+\n",
            "| 445970|        12|      980|\n",
            "| 596550|        11|      366|\n",
            "| 618370|        11|      998|\n",
            "|1335410|        11|      385|\n",
            "| 675790|        11|      344|\n",
            "|1059250|        11|      152|\n",
            "|1289550|        11|      871|\n",
            "|1716660|        11|      458|\n",
            "| 938410|        11|      827|\n",
            "|1095990|        10|        8|\n",
            "+-------+----------+---------+\n",
            "\n"
          ]
        }
      ],
      "source": [
        "# Question 2: \n",
        "# Which users wrote the top-10 highest active posts?\n",
        "# Top-10 active posts are posts that have the highest number of comments and likes.\n",
        "\n",
        "postLikes = posts.groupBy(\"Post_id\").count()\n",
        "postReplays = replays.groupBy(\"Post_id\").count()\n",
        "postsA = postLikes.union(postReplays)\n",
        "postsActivites = postsA.groupBy(\"Post_id\").sum(\"count\").orderBy(\"sum(count)\", ascending=False).limit(10)\n",
        "\n",
        "postsActivites = postsActivites.join(posts,\"Post_id\").orderBy(\"sum(count)\", ascending=False)\n",
        "postsActivites.show()"
      ]
    },
    {
      "cell_type": "code",
      "execution_count": 13,
      "metadata": {},
      "outputs": [
        {
          "name": "stdout",
          "output_type": "stream",
          "text": [
            "+----------+--------------------+------+\n",
            "|Person_id0|        knowsAndFOAF|Number|\n",
            "+----------+--------------------+------+\n",
            "|       194|[0, 356, 843, 437...|   809|\n",
            "|       983|[0, 356, 843, 437...|   802|\n",
            "|       938|[843, 0, 356, 437...|   795|\n",
            "|       568|[0, 843, 356, 437...|   794|\n",
            "|       811|[0, 356, 843, 437...|   791|\n",
            "|       316|[0, 356, 843, 437...|   786|\n",
            "|       866|[0, 356, 843, 437...|   783|\n",
            "|       530|[0, 356, 437, 793...|   782|\n",
            "|       404|[0, 356, 437, 793...|   780|\n",
            "|       722|[843, 0, 356, 437...|   779|\n",
            "+----------+--------------------+------+\n",
            "\n"
          ]
        }
      ],
      "source": [
        "# Question 3: \n",
        "# Which top-10 users have the highest number of friends-of-friends plus direct friends?\n",
        "# Each user is connect to a set of other users when we count up the number of connections \n",
        "# with 1-step connection plus direction connections.\n",
        "# Count up for each user the number of unique friends-of-friends plus direct friends and \n",
        "# print out the top-10 of them. \n",
        "\n",
        "from pyspark.sql import functions as F\n",
        "\n",
        "# We self join \"knows\" to create table for FOAF\n",
        "knowsFOAF = knows.alias(\"l\").join(knows.alias(\"r\"),\n",
        "        F.col(\"l.Person_id1\") == F.col(\"r.Person_id0\"), \"left\")\\\n",
        "        .select(*[\"l.Person_id0\", \"r.Person_id1\"])\n",
        "# Create a union to have FOAF and direct friends\n",
        "knowsAll = knows.union(knowsFOAF)\n",
        "# Collect all friends in an set, so we have only unique friends IDs in the 'knowsAndFOAF' column\n",
        "knowsAllSet = knowsAll.groupBy('Person_id0').agg(F.collect_set('Person_id1').alias('knowsAndFOAF'))\n",
        "# Calculate the size of 'knowsAndFOAF'\n",
        "knowsAllSetNum = knowsAllSet.withColumn(\"Number\",F.size(\"knowsAndFOAF\"))\n",
        "# Sort the table and take the top 10\n",
        "knowsAllSetTop10 = knowsAllSetNum.orderBy(\"Number\", ascending=False).limit(10)\n",
        "knowsAllSetTop10.show()"
      ]
    },
    {
      "cell_type": "code",
      "execution_count": 14,
      "metadata": {},
      "outputs": [
        {
          "name": "stdout",
          "output_type": "stream",
          "text": [
            "0.35536844261116857\n"
          ]
        }
      ],
      "source": [
        "# Question: 4\n",
        "# What is the correlation coefficient between number of posts \n",
        "# and number of likes that users do in social network?\n",
        "# You can calculate correlation coefficient using the following formula:\n",
        "\n",
        "postsLikes = postsP.withColumnRenamed(\"count\",\"posts\")\\\n",
        "    .join(likesP.withColumnRenamed(\"count\",\"likes\"),\"Person_id\")\n",
        "# There is predefined correlation function for DataFrames\n",
        "correlation = postsLikes.stat.corr(\"posts\",\"likes\")\n",
        "print(correlation)"
      ]
    },
    {
      "cell_type": "code",
      "execution_count": 16,
      "metadata": {},
      "outputs": [
        {
          "name": "stdout",
          "output_type": "stream",
          "text": [
            "+--------+--------------------+-------+--------------------+------------------+\n",
            "|Post_id0|     Active_Persons0|Post_id|      Active_Persons|           Jaccard|\n",
            "+--------+--------------------+-------+--------------------+------------------+\n",
            "|  494340|[643, 180, 785, 4...| 495350|[643, 180, 785, 4...|               1.0|\n",
            "|  495350|[643, 180, 785, 4...| 494340|[643, 180, 785, 4...|               1.0|\n",
            "| 1415610|[15, 426, 495, 10...|1415070|[15, 426, 495, 10...|               1.0|\n",
            "| 1291960|[951, 200, 564, 7...|1292510|[951, 200, 564, 7...|               1.0|\n",
            "| 1292510|[951, 200, 564, 7...|1291960|[951, 200, 564, 7...|               1.0|\n",
            "| 1415070|[15, 426, 495, 10...|1415610|[15, 426, 495, 10...|               1.0|\n",
            "| 1481610|[778, 880, 557, 9...|1481680|[778, 557, 880, 9...|               1.0|\n",
            "| 1481680|[778, 557, 880, 9...|1481610|[778, 880, 557, 9...|               1.0|\n",
            "| 1667890|[219, 342, 300, 2...|1668350|[219, 342, 300, 2...|0.9285714285714286|\n",
            "| 1668350|[219, 342, 300, 2...|1667890|[219, 342, 300, 2...|0.9285714285714286|\n",
            "+--------+--------------------+-------+--------------------+------------------+\n",
            "\n"
          ]
        }
      ],
      "source": [
        "# Question 5: \n",
        "# What are the top-10 two similar posts (post1, post2) based on users who were active on theseposts?\n",
        "# A user is active on a post when he posted it, comment on it, or liked it.\n",
        "# Use the JaccardSimilarity based on the two user sets. Consider posts with more than 10 activities only. \n",
        "# Jaccard Similarity of two sets of A and B is defined as the following formula (1):\n",
        "# J(A,B) = size(A intersect B)/size(A union B)\n",
        "\n",
        "# Create dataframes wiht active users per post\n",
        "postPersonCommented = replays.join(comments,\"Comment_id\").select([\"Post_id\",\"Person_id\"])\n",
        "postPersonPosted = posts\n",
        "postPersonLiked = likes.select([\"Post_id\",\"Person_id\"])\n",
        "\n",
        "# Make a union of all user activities in one dataframe\n",
        "postPersonAllActivities = postPersonCommented.union(postPersonPosted).union(postPersonLiked)\n",
        "\n",
        "# Aggregate the all user activities in a set of users per post\n",
        "postPersonAllActivitiesSet = postPersonAllActivities.groupBy('Post_id')\\\n",
        "    .agg(F.collect_set('Person_id').alias('Active_Persons'))\\\n",
        "    .withColumn(\"Number\",F.size(\"Active_Persons\"))\n",
        "\n",
        "# Take only postst that have more than 12 unique persons that commented\n",
        "postPersonAllActivitiesSetMin10 = postPersonAllActivitiesSet.where(\"Number>12\")\n",
        "postPersonAllActivitiesSetMin10 = postPersonAllActivitiesSetMin10.select(*[\"Post_id\",\"Active_Persons\"])\n",
        "\n",
        "# Create a crossJoin (cartesian product) of posts\n",
        "postsSim = postPersonAllActivitiesSetMin10.toDF(\"Post_id0\",\"Active_Persons0\")\\\n",
        "    .crossJoin(postPersonAllActivitiesSetMin10).where(\"Post_id0!=Post_id\")\n",
        "\n",
        "# Calculate the Jaccard similarity\n",
        "postsJaccard = postsSim.withColumn(\"Jaccard\",\n",
        "    F.size(F.array_intersect(F.col(\"Active_Persons0\"), F.col(\"Active_Persons\")))/\n",
        "    F.size(F.array_union(F.col(\"Active_Persons0\"), F.col(\"Active_Persons\")))\n",
        "    )\n",
        "\n",
        "# Take the top 10 most similar posts\n",
        "postsJaccard10 = postsJaccard.orderBy(\"Jaccard\", ascending=False).limit(10)\n",
        "\n",
        "postsJaccard10.show()"
      ]
    }
  ],
  "metadata": {
    "colab": {
      "collapsed_sections": [],
      "include_colab_link": true,
      "name": "Colab-SocialMedia-Example-Spark.ipynb",
      "provenance": []
    },
    "kernelspec": {
      "display_name": "Python 3.10.4 ('spark')",
      "language": "python",
      "name": "python3"
    },
    "language_info": {
      "codemirror_mode": {
        "name": "ipython",
        "version": 3
      },
      "file_extension": ".py",
      "mimetype": "text/x-python",
      "name": "python",
      "nbconvert_exporter": "python",
      "pygments_lexer": "ipython3",
      "version": "3.10.4"
    },
    "vscode": {
      "interpreter": {
        "hash": "9db6cbf0fd79f8e79653fe7b0c50b956ca6e525ee712295da3c66f75e4fe96ce"
      }
    }
  },
  "nbformat": 4,
  "nbformat_minor": 0
}
